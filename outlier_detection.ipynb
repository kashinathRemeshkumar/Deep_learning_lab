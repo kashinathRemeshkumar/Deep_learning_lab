{
 "cells": [
  {
   "cell_type": "code",
   "execution_count": 1,
   "id": "1bf55400",
   "metadata": {},
   "outputs": [
    {
     "name": "stdout",
     "output_type": "stream",
     "text": [
      "Original Data:\n",
      "    values\n",
      "0       10\n",
      "1       12\n",
      "2       12\n",
      "3       13\n",
      "4       12\n",
      "5       14\n",
      "6       13\n",
      "7      120\n",
      "8       12\n",
      "9       11\n",
      "10      13\n",
      "11     200\n",
      "12      12\n",
      "13      14\n",
      "14      13\n",
      "\n",
      "Detected Outliers:\n",
      "    values\n",
      "7      120\n",
      "11     200\n",
      "\n",
      "Data After Removing Outliers:\n",
      "    values\n",
      "0       10\n",
      "1       12\n",
      "2       12\n",
      "3       13\n",
      "4       12\n",
      "5       14\n",
      "6       13\n",
      "8       12\n",
      "9       11\n",
      "10      13\n",
      "12      12\n",
      "13      14\n",
      "14      13\n"
     ]
    }
   ],
   "source": [
    "import pandas as pd\n",
    "\n",
    "# Example dataset\n",
    "data = {\n",
    "    'values': [10, 12, 12, 13, 12, 14, 13, 120, 12, 11, 13, 200, 12, 14, 13]\n",
    "}\n",
    "\n",
    "# Convert to DataFrame\n",
    "df = pd.DataFrame(data)\n",
    "\n",
    "print(\"Original Data:\")\n",
    "print(df)\n",
    "\n",
    "# Calculate Q1, Q3, and IQR\n",
    "Q1 = df['values'].quantile(0.25)\n",
    "Q3 = df['values'].quantile(0.75)\n",
    "IQR = Q3 - Q1\n",
    "\n",
    "# Define bounds for normal values\n",
    "lower_bound = Q1 - 1.5 * IQR\n",
    "upper_bound = Q3 + 1.5 * IQR\n",
    "\n",
    "# Detect outliers\n",
    "outliers = df[(df['values'] < lower_bound) | (df['values'] > upper_bound)]\n",
    "print(\"\\nDetected Outliers:\")\n",
    "print(outliers)\n",
    "\n",
    "# Remove outliers\n",
    "df_cleaned = df[(df['values'] >= lower_bound) & (df['values'] <= upper_bound)]\n",
    "\n",
    "print(\"\\nData After Removing Outliers:\")\n",
    "print(df_cleaned)\n"
   ]
  }
 ],
 "metadata": {
  "kernelspec": {
   "display_name": "Python 3",
   "language": "python",
   "name": "python3"
  },
  "language_info": {
   "codemirror_mode": {
    "name": "ipython",
    "version": 3
   },
   "file_extension": ".py",
   "mimetype": "text/x-python",
   "name": "python",
   "nbconvert_exporter": "python",
   "pygments_lexer": "ipython3",
   "version": "3.13.2"
  }
 },
 "nbformat": 4,
 "nbformat_minor": 5
}
