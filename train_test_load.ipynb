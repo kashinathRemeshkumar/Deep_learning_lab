{
 "cells": [
  {
   "cell_type": "code",
   "execution_count": null,
   "id": "8ec8d069",
   "metadata": {},
   "outputs": [],
   "source": [
    "from tensorflow.keras.utils import image_dataset_from_directory\n",
    "import numpy as np\n",
    "from tensorflow.keras.utils import to_categorical\n",
    "\n",
    "def load_dataset(dataset_dir, img_size=(32, 32)):\n",
    "    train_ds = timage_dataset_from_directory(dataset_dir + \"/train\", image_size=img_size)\n",
    "    test_ds = image_dataset_from_directory(dataset_dir + \"/test\", image_size=img_size)\n",
    "\n",
    "    # Convert train to numpy\n",
    "    x_train, y_train = [], []\n",
    "    for x, y in train_ds:\n",
    "        x_train.append(x.numpy())\n",
    "        y_train.append(y.numpy())\n",
    "    x_train = np.concatenate(x_train, axis=0).astype(\"float32\") / 255.0\n",
    "    y_train = np.concatenate(y_train, axis=0)\n",
    "\n",
    "    # Convert test to numpy\n",
    "    x_test, y_test = [], []\n",
    "    for x, y in test_ds:\n",
    "        x_test.append(x.numpy())\n",
    "        y_test.append(y.numpy())\n",
    "    x_test = np.concatenate(x_test, axis=0).astype(\"float32\") / 255.0\n",
    "    y_test = np.concatenate(y_test, axis=0)\n",
    "\n",
    "    num_classes = len(np.unique(y_train))\n",
    "    y_train = to_categorical(y_train, num_classes)\n",
    "    y_test = to_categorical(y_test, num_classes)\n",
    "\n",
    "    return (x_train, y_train), (x_test, y_test), num_classes, x_train.shape[1:4]\n"
   ]
  }
 ],
 "metadata": {
  "kernelspec": {
   "display_name": "Python 3",
   "language": "python",
   "name": "python3"
  },
  "language_info": {
   "codemirror_mode": {
    "name": "ipython",
    "version": 3
   },
   "file_extension": ".py",
   "mimetype": "text/x-python",
   "name": "python",
   "nbconvert_exporter": "python",
   "pygments_lexer": "ipython3",
   "version": "3.13.2"
  }
 },
 "nbformat": 4,
 "nbformat_minor": 5
}
