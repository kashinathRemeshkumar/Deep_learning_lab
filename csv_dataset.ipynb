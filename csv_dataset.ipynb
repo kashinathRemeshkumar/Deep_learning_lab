{
 "cells": [
  {
   "cell_type": "code",
   "execution_count": null,
   "id": "8cd2a89e",
   "metadata": {},
   "outputs": [],
   "source": [
    "\n",
    "import pandas as pd\n",
    "from sklearn.model_selection import train_test_split\n",
    "from tensorflow.keras.preprocessing.text import Tokenizer\n",
    "from sklearn.preprocessing import LabelEncoder\n",
    "from tensorflow.keras.preprocessing.sequence import pad_sequences\n",
    "\n",
    "#(xtrain,ytrain),(xtest,ytest)=imdb.load_data(num_words=10000)\n",
    "\n",
    "data=pd.read_csv(\"imdb.csv\")\n",
    "data=pd.DataFrame(data)\n",
    "X=data['review'].astype(str).tolist()\n",
    "Y=data['sentiment']\n",
    "xtrain,xtest,ytrain,ytest=train_test_split(X,Y,test_size=0.2,random_state=42)\n",
    "\n",
    "token=Tokenizer(num_words=10000)\n",
    "token.fit_on_texts(xtrain)\n",
    "\n",
    "\n",
    "\n",
    "le = LabelEncoder()\n",
    "ytrain = le.fit_transform(ytrain)\n",
    "ytest  = le.transform(ytest)\n",
    "\n",
    "\n",
    "xtrain=pad_sequences(token.texts_to_sequences(xtrain),maxlen=200)\n",
    "xtest=pad_sequences(token.texts_to_sequences(xtest),maxlen=200)\n"
   ]
  }
 ],
 "metadata": {
  "language_info": {
   "name": "python"
  }
 },
 "nbformat": 4,
 "nbformat_minor": 5
}
