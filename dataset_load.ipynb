{
 "cells": [
  {
   "cell_type": "code",
   "execution_count": null,
   "id": "30e7027f",
   "metadata": {},
   "outputs": [],
   "source": [
    "from tensorflow.keras.utils import image_dataset_from_directory\n",
    "import numpy as np\n",
    "from tensorflow.keras.utils import to_categorical\n",
    "from sklearn.model_selection import train_test_split\n",
    "\n",
    "def load_dataset(dataset_dir, test_size=0.2, img_size=(32, 32)):\n",
    "    ds = image_dataset_from_directory(dataset_dir, image_size=img_size)\n",
    "\n",
    "    images, labels = [], []\n",
    "    for x, y in ds:\n",
    "        images.append(x.numpy())\n",
    "        labels.append(y.numpy())\n",
    "    X = np.concatenate(images, axis=0).astype(\"float32\") / 255.0\n",
    "    y = np.concatenate(labels, axis=0)\n",
    "\n",
    "    X_train, X_test, y_train, y_test = train_test_split(X, y, test_size=test_size, stratify=y)\n",
    "    num_classes = len(np.unique(y))\n",
    "\n",
    "    y_train = to_categorical(y_train, num_classes)\n",
    "    y_test = to_categorical(y_test, num_classes)\n",
    "\n",
    "    return (X_train, y_train), (X_test, y_test), num_classes, X.shape[1:4]"
   ]
  }
 ],
 "metadata": {
  "kernelspec": {
   "display_name": "Python 3",
   "language": "python",
   "name": "python3"
  },
  "language_info": {
   "name": "python",
   "version": "3.13.2"
  }
 },
 "nbformat": 4,
 "nbformat_minor": 5
}
